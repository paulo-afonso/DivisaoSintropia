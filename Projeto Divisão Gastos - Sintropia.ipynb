{
 "cells": [
  {
   "cell_type": "markdown",
   "id": "e63c0f93",
   "metadata": {},
   "source": [
    "### Importação de Dados e Tratamento de Dataframes"
   ]
  },
  {
   "cell_type": "code",
   "execution_count": 17,
   "id": "e1cee37f",
   "metadata": {
    "scrolled": false
   },
   "outputs": [],
   "source": [
    "# Importação dos Arquivos\n",
    "\n",
    "import pandas as pd\n",
    "import openpyxl\n",
    "from openpyxl import load_workbook\n",
    "import numpy as np\n",
    "import os.path\n",
    "\n",
    "pd.set_option(\"display.max_rows\", 10)\n",
    "\n",
    "produtos = pd.read_csv('iluria-relatorio-de-pedidos-por-produto.csv', sep=';', encoding = 'latin1', decimal=',')\n",
    "pedidos = pd.read_csv('iluria-relatorio-de-pedidos.csv', sep=';', encoding = 'latin1', decimal=',')\n",
    "catalogo_old = pd.read_csv('Catálogo de Produtos.csv', sep=';', encoding = 'latin1')"
   ]
  },
  {
   "cell_type": "code",
   "execution_count": 18,
   "id": "744837f9",
   "metadata": {},
   "outputs": [],
   "source": [
    "# Limpeza das Dataframes\n",
    "produtos = produtos[['Pedido', 'Código do produto', 'Titulo do produto', 'Quantidade', 'Preço']]\n",
    "pedidos = pedidos[['Pedido',\n",
    "                   'Data', \n",
    "                   'Nome/Razão social do cliente', \n",
    "                   'Total em produtos', \n",
    "                   'Total de descontos', \n",
    "                   'Total Geral' , \n",
    "                   'Pago/Não Pago'\n",
    "                  ]]\n",
    "\n",
    "pedidos['Data'] = pd.to_datetime(pedidos['Data'], format = '%d/%m/%Y')\n",
    "pedidos['Total Geral'] = pedidos['Total em produtos'] - pedidos['Total de descontos']\n",
    "\n",
    "# Filtragem dos pedidos pagos\n",
    "pedidos_confirmados = pedidos['Pago/Não Pago'] == 'Sim'\n",
    "pedidos_new = pedidos[pedidos_confirmados]\n",
    "\n",
    "# Cálculo % desconto\n",
    "pedidos_new.insert(3, '% de Desconto', (pedidos_new['Total de descontos'] / pedidos_new['Total em produtos']))\n",
    "\n",
    "#Tratamento infos do Catálogo\n",
    "catalogo = produtos.drop_duplicates(subset=['Código do produto'], keep='first')\n",
    "catalogo = produtos.drop_duplicates(subset=['Código do produto'])\n",
    "catalogo = catalogo[['Código do produto', 'Titulo do produto', 'Preço']]\n",
    "pd.options.display.float_format = '{:,.2f}'.format"
   ]
  },
  {
   "cell_type": "code",
   "execution_count": 19,
   "id": "0cb4d55f",
   "metadata": {},
   "outputs": [],
   "source": [
    "# Merge das planilhas\n",
    "catalogo_new = catalogo_old.merge(catalogo, on=['Código do produto'],  how = 'outer')\n",
    "\n",
    "# Uptade das colunas Título e Preço\n",
    "catalogo_new['Titulo do produto_x'] = catalogo_new['Titulo do produto_y'].fillna(catalogo_new['Titulo do produto_x'])\n",
    "catalogo_new['Preço_x'] = catalogo_new['Preço_y'].fillna(catalogo_new['Preço_x'])\n",
    "\n",
    "# Exclusão das colunas duplicadas\n",
    "catalogo_new.drop(['Titulo do produto_y','Preço_y'],inplace=True,axis=1)\n",
    "\n",
    "# Rename das colunas\n",
    "catalogo_new.rename(columns={'Titulo do produto_x':'Titulo do produto','Preço_x':'Preço'},inplace=True)"
   ]
  },
  {
   "cell_type": "code",
   "execution_count": 20,
   "id": "2fa287db",
   "metadata": {},
   "outputs": [],
   "source": [
    "# Check e Cálculo da % da divisão \n",
    "\n",
    "for i, pcarol in enumerate(catalogo_new.iloc[:,3]):\n",
    "    if pcarol == 0:\n",
    "        catalogo_new.iloc[i,4]=catalogo_new.iloc[i,2]\n",
    "\n",
    "for i, pbruna in enumerate(catalogo_new.iloc[:,4]):\n",
    "    if pbruna == 0:\n",
    "        catalogo_new.iloc[i,3]=catalogo_new.iloc[i,2]\n",
    "\n",
    "for i, check in enumerate(catalogo_new.iloc[:,2]):\n",
    "    if check != catalogo_new.iloc[i,3] + catalogo_new.iloc[i,4] :\n",
    "        catalogo_new.iloc[i,7]= 'AJUSTAR DIVISÃO'\n",
    "    else:\n",
    "        catalogo_new.iloc[i,7]= ''\n",
    "        \n",
    "#Cálculo das % do produto de cada uma\n",
    "catalogo_new['% Carol'] = catalogo_new.iloc[:,3]/catalogo_new.iloc[:,2]\n",
    "catalogo_new['% Bruna'] = catalogo_new.iloc[:,4]/catalogo_new.iloc[:,2]\n",
    "catalogo_new['check'] = ''"
   ]
  },
  {
   "cell_type": "code",
   "execution_count": 21,
   "id": "63cbe75b",
   "metadata": {},
   "outputs": [],
   "source": [
    "# Exportação da planilha Catálogo\n",
    "catalogo_new.to_csv(r'Catálogo de Produtos.csv', sep=';', encoding = 'latin1', index=False)"
   ]
  },
  {
   "cell_type": "markdown",
   "id": "5faf7f6d",
   "metadata": {},
   "source": [
    "### Montagem da Planilha Divisão"
   ]
  },
  {
   "cell_type": "code",
   "execution_count": 22,
   "id": "b4d63576",
   "metadata": {},
   "outputs": [],
   "source": [
    "pd.set_option(\"display.max_rows\", 10)\n",
    "\n",
    "# Primeira junção das DF's / Manipulação de dados.\n",
    "\n",
    "# Merge com a DF de pedidos\n",
    "pre_divisao = produtos.merge(pedidos_new)\n",
    "pre_divisao = pre_divisao.drop(['Total de descontos', 'Pago/Não Pago'], axis = 1)\n",
    "# Inserindo a divisão por produto do Catálogo no DF\n",
    "pre_divisao['% Carol'] = ''\n",
    "pre_divisao['% Bruna'] = ''\n",
    "for i, item in enumerate(catalogo_new['Código do produto']):\n",
    "    for x, codigo in enumerate(pre_divisao['Código do produto']):\n",
    "        if item == codigo:\n",
    "                pre_divisao.loc[x, '% Carol'] = catalogo_new.loc[i, '% Carol']\n",
    "                pre_divisao.loc[x, '% Bruna'] = catalogo_new.loc[i, '% Bruna']   \n",
    "        \n",
    "# Adição das colunas 'Soma Produto' e 'R$ Final Produto' // insert pra inserir no meio da tabela\n",
    "pre_divisao.insert(5, 'Soma Produto', (pre_divisao['Quantidade'] * pre_divisao['Preço']))\n",
    "pre_divisao.insert(6, 'R$ Produto Final', (pre_divisao['Soma Produto'] * (1 - pre_divisao['% de Desconto'])))\n",
    "\n",
    "# Adição das colunas $ Carol e $ Bruna\n",
    "pre_divisao.insert(7, '$ Carol', (pre_divisao['R$ Produto Final'] * pre_divisao['% Carol']))\n",
    "pre_divisao.insert(8, '$ Bruna', (pre_divisao['R$ Produto Final'] * pre_divisao['% Bruna']))\n",
    "\n",
    "# Calcular o total $ Carol / $ Bruna por pedido\n",
    "\n",
    "divisao_por_pedido = pre_divisao.copy()\n",
    "divisao_por_pedido = divisao_por_pedido[['Pedido','$ Carol', '$ Bruna', 'Nome/Razão social do cliente']]\n",
    "divisao_por_pedido = divisao_por_pedido.groupby(['Pedido']).agg({'$ Carol':['sum'], '$ Bruna':['sum'], 'Nome/Razão social do cliente':['min']})\n",
    "divisao_por_pedido.columns = list(map(''.join, divisao_por_pedido.columns.values))\n",
    "divisao_por_pedido = divisao_por_pedido.reset_index()\n",
    "divisao_por_pedido = divisao_por_pedido.rename(columns={'$ Carolsum': '$ Carol / Pedido', \n",
    "                                                        '$ Brunasum': '$ Bruna / Pedido', \n",
    "                                                        'Nome/Razão social do clientemin':'Cliente',\n",
    "                                                        'Preço': 'Preço s/ Desconto'})\n",
    "#display(divisao_por_pedido)\n",
    "\n",
    "\n",
    "pre_divisao = pre_divisao.rename(columns={'Preço': 'Preço s/ Desconto'})\n",
    "\n",
    "pre_divisao = pre_divisao.merge(divisao_por_pedido, on = 'Pedido')\n",
    "# Calcular o percentual do $ Carol / $ Bruna por total do pedido\n",
    "\n",
    "\n",
    "pre_divisao['% Carol / Pedido'] = pre_divisao['$ Carol / Pedido'] / pre_divisao['Total Geral']\n",
    "pre_divisao['% Bruna / Pedido'] = pre_divisao['$ Bruna / Pedido'] / pre_divisao['Total Geral']\n",
    "\n",
    "# Montagem DataFrame Final:\n",
    "\n",
    "carol_verba = divisao_por_pedido['$ Carol / Pedido'].sum()\n",
    "bruna_verba = divisao_por_pedido['$ Bruna / Pedido'].sum()"
   ]
  },
  {
   "cell_type": "code",
   "execution_count": 23,
   "id": "350fdf3f",
   "metadata": {},
   "outputs": [],
   "source": [
    "clientes_assiduos = divisao_por_pedido['Cliente'].value_counts().rename_axis('Cliente').reset_index(name='Qntde Pedidos')"
   ]
  },
  {
   "cell_type": "code",
   "execution_count": 24,
   "id": "bc5bff2a",
   "metadata": {
    "scrolled": true
   },
   "outputs": [],
   "source": [
    "pd.set_option(\"display.max_rows\", None)\n",
    "pre_divisao.sort_values(by=['Data'], inplace=True, ascending=True)"
   ]
  },
  {
   "cell_type": "code",
   "execution_count": 25,
   "id": "53fcea46",
   "metadata": {},
   "outputs": [
    {
     "name": "stdout",
     "output_type": "stream",
     "text": [
      "['2021', '2020']\n"
     ]
    }
   ],
   "source": [
    "divisao = pre_divisao.copy()\n",
    "\n",
    "duplicadas = divisao.duplicated(subset=['Pedido'])\n",
    "divisao.loc[duplicadas, ['Cliente', 'Pedido', '$ Carol / Pedido', '$ Bruna / Pedido', 'Total Geral']] = float('nan')\n",
    "\n",
    "pre_divisao = pre_divisao[['Pedido',\n",
    "                           'Data', \n",
    "                           'Cliente',\n",
    "                           '$ Carol / Pedido',\n",
    "                           '$ Bruna / Pedido', \n",
    "                           'Titulo do produto', \n",
    "                           'Quantidade', \n",
    "                           'Preço s/ Desconto', \n",
    "                           'R$ Produto Final', \n",
    "                           '$ Carol', \n",
    "                           '$ Bruna', \n",
    "                           'Total Geral']]\n",
    "\n",
    "divisao = divisao[['Pedido',\n",
    "                           'Data', \n",
    "                           'Cliente',\n",
    "                           '$ Carol / Pedido',\n",
    "                           '$ Bruna / Pedido', \n",
    "                           'Titulo do produto', \n",
    "                           'Quantidade', \n",
    "                           'Preço s/ Desconto', \n",
    "                           'R$ Produto Final', \n",
    "                           '$ Carol', \n",
    "                           '$ Bruna', \n",
    "                           'Total Geral']]\n",
    "\n",
    "anus=divisao['Data'].dt.strftime('%Y')\n",
    "anus=list(set(anus))\n",
    "anus.sort(reverse = True)\n",
    "print(anus)"
   ]
  },
  {
   "cell_type": "code",
   "execution_count": 26,
   "id": "8cb5c994",
   "metadata": {},
   "outputs": [],
   "source": [
    "import datetime as dt"
   ]
  },
  {
   "cell_type": "code",
   "execution_count": 27,
   "id": "ffa801c9",
   "metadata": {},
   "outputs": [
    {
     "name": "stdout",
     "output_type": "stream",
     "text": [
      "2021\n"
     ]
    },
    {
     "data": {
      "text/plain": [
       "str"
      ]
     },
     "execution_count": 27,
     "metadata": {},
     "output_type": "execute_result"
    }
   ],
   "source": [
    "from tkinter import *\n",
    "\n",
    "root = Tk()\n",
    "\n",
    "def ano():\n",
    "    global armazenar_ano\n",
    "    armazenar_ano = e.get()\n",
    "    \n",
    "def close_window():\n",
    "    root.destroy()\n",
    "\n",
    "\n",
    "\n",
    "e = StringVar(root)\n",
    "e.set(max(anus))\n",
    "\n",
    "w = OptionMenu(root, e, *anus)\n",
    "w.pack()\n",
    "  \n",
    "\n",
    "prompt = Label(root, text='Ano: ')\n",
    "prompt.pack(fill='x', side='left')\n",
    "\n",
    "ok = Button(root, text='GO', command=lambda:[ano(), close_window()])\n",
    "ok.pack(fill='x', side='left')\n",
    "\n",
    "root.mainloop()\n",
    "\n",
    "print(armazenar_ano)\n",
    "type(armazenar_ano)"
   ]
  },
  {
   "cell_type": "code",
   "execution_count": 28,
   "id": "b789106f",
   "metadata": {},
   "outputs": [],
   "source": [
    "def dataframe_by_date(ano:str, df):\n",
    "    contador = 1    \n",
    "    lista_datas = []\n",
    "    \n",
    "    meis = df['Data'].dt.strftime('%m')\n",
    "    meis=list(set(meis))\n",
    "    meis.sort()\n",
    "    \n",
    "    \n",
    "    for i in range(len(meis)):\n",
    "        data=df[df['Data'].dt.strftime('%Y-%m') == f'{ano}-{meis[i]}'].copy()\n",
    "                \n",
    "        if data.empty:\n",
    "            pass\n",
    "        else:\n",
    "            lista_datas.append(data)\n",
    "            \n",
    "        data.loc[:, 'Data'] = data['Data'].dt.strftime('%d/%m/%Y')\n",
    "\n",
    "        \n",
    "        contador += 1  \n",
    "       \n",
    "    print('Quantidade de datasFrames criados: ' + str(len(lista_datas)) + f' no ano de {ano}')\n",
    "    \n",
    "    return lista_datas"
   ]
  },
  {
   "cell_type": "code",
   "execution_count": null,
   "id": "3c3e13c3",
   "metadata": {},
   "outputs": [],
   "source": []
  },
  {
   "cell_type": "code",
   "execution_count": 29,
   "id": "f56045fc",
   "metadata": {
    "scrolled": true
   },
   "outputs": [
    {
     "name": "stdout",
     "output_type": "stream",
     "text": [
      "Quantidade de datasFrames criados: 9 no ano de 2021\n"
     ]
    }
   ],
   "source": [
    "dicio_meses = {\n",
    "               '01':'Jan', \n",
    "               '02':'Fev', \n",
    "               '03':'Mar', \n",
    "               '04':'Abr', \n",
    "               '05':'Mai', \n",
    "               '06':'Jun', \n",
    "               '07':'Jul', \n",
    "               '08':'Ago', \n",
    "               '09':'Set', \n",
    "               '10':'Out', \n",
    "               '11':'Nov', \n",
    "               '12':'Dez' \n",
    "              }\n",
    "\n",
    "dfs_meses = dataframe_by_date(armazenar_ano, divisao)\n",
    "\n",
    "for item in dfs_meses:\n",
    "    vazio = pd.isnull(item['Pedido'])\n",
    "    item.loc[vazio, 'Data'] = float('nan')"
   ]
  },
  {
   "cell_type": "code",
   "execution_count": 30,
   "id": "1c29d176",
   "metadata": {},
   "outputs": [],
   "source": [
    "total_carol = dfs_meses[8]['$ Carol'].sum()\n",
    "total_bruna = dfs_meses[8]['$ Bruna'].sum()\n",
    "total_total = dfs_meses[8]['Total Geral'].sum()"
   ]
  },
  {
   "cell_type": "code",
   "execution_count": 31,
   "id": "e53f1cd2",
   "metadata": {
    "scrolled": false
   },
   "outputs": [
    {
     "name": "stdout",
     "output_type": "stream",
     "text": [
      "Quantidade de datasFrames criados: 0 no ano de 2021\n"
     ]
    }
   ],
   "source": [
    "from pathlib import Path\n",
    "\n",
    "pd.set_option(\"display.max_rows\", None)\n",
    "\n",
    "path = \"Divisão Sintropia {}.xlsx\".format(armazenar_ano)\n",
    "path = str(path)\n",
    "\n",
    "check_exists = os.path.isfile(path)\n",
    "\n",
    "\n",
    "#print(check_exists)\n",
    "\n",
    "\n",
    "\n",
    "if not check_exists:\n",
    "    writer = pd.ExcelWriter(path, engine = 'openpyxl')\n",
    "    for df in dfs_meses:\n",
    "        meses_to_name = df.iloc[0][1][3:5]\n",
    "        df['Total Carol']=df.loc[:, '$ Carol'].sum()\n",
    "        df['Total Bruna']=df.loc[:, '$ Bruna'].sum()\n",
    "        df['Total em Vendas']=df.loc[:, 'Total Geral'].sum()\n",
    "        duplicadass = df.duplicated(subset=['Total Carol'])\n",
    "        df.loc[duplicadass, ['Total Carol', 'Total Bruna', 'Total em Vendas']] = float('nan')\n",
    "        df.to_excel(writer, sheet_name = dicio_meses[meses_to_name], index = False, encoding = 'UTF-8')\n",
    "        \n",
    "        \n",
    "    writer.save()\n",
    "    wb = load_workbook(path)\n",
    "    sheets = wb.sheetnames\n",
    "\n",
    "    for sheet in sheets:\n",
    "        ws = wb[f'{sheet}']\n",
    "        for row in ws.iter_cols(min_col = 1, max_col = 1, min_row = 2):\n",
    "            for cell in row:\n",
    "                if cell.value != None:           \n",
    "                    print(cell.value, end = \" / \")\n",
    "                    row_idx = cell.row\n",
    "                    print(row_idx)\n",
    "                    ws.insert_rows(idx = row_idx, amount=1)\n",
    "                    print(row_idx)\n",
    "            ws.delete_rows(idx = 2)\n",
    "\n",
    "\n",
    "    wb.save(path)\n",
    "else:\n",
    "    wb = load_workbook(path)\n",
    "    sheets = wb.sheetnames\n",
    "    lista_de_pedidos = []\n",
    "    for sheet in sheets:\n",
    "        ws = wb[f'{sheet}']\n",
    "        for row in ws.iter_cols(min_col = 1, max_col = 1, min_row = 2):\n",
    "            for cell in row:\n",
    "                if cell.value != None:                    \n",
    "                    lista_de_pedidos.append(cell.value)                    \n",
    "\n",
    "    \n",
    "    dif = pre_divisao.copy()\n",
    "    \n",
    "    for item in lista_de_pedidos:\n",
    "        dif.drop(dif.loc[dif['Pedido']==item].index, inplace=True)\n",
    "   \n",
    "    novos_pedidos = dataframe_by_date(armazenar_ano, dif)\n",
    "    \n",
    "       \n",
    "    dict_com_dfs = {dicio_meses[item.iloc[0][1][3:5]]: item for item in novos_pedidos}\n",
    "    \n",
    "    \n",
    "    \n",
    "    writer = pd.ExcelWriter(path, mode='a', engine = 'openpyxl')\n",
    "    writer.book = load_workbook(path)    \n",
    "    writer.sheets = {ws.title: ws for ws in writer.book.worksheets}\n",
    "\n",
    "    def getList(dict):\n",
    "        return list(dict.keys())\n",
    "\n",
    "    list1 = getList(dict_com_dfs)\n",
    "    list2 = getList(writer.sheets)\n",
    " \n",
    "    def intersection(lst1, lst2):\n",
    "        lst3 = [value for value in lst1 if value in lst2]\n",
    "        return lst3\n",
    "    def difference(lst1, lst2):                \n",
    "        list3 = [value for value in lst1 if value not in lst2]\n",
    "        return list3\n",
    "\n",
    "    inter = intersection(list1, list2)\n",
    "    diff = difference(list1, list2)\n",
    "    \n",
    "    for sheet, frame in dict_com_dfs.items():\n",
    "        print(sheet)\n",
    "        if sheet in inter: \n",
    "            reader = pd.read_excel(path, sheet_name = f'{sheet}')\n",
    "            frame.to_excel(writer, index=False, sheet_name = f'{sheet}', startrow=len(reader)+1, encoding = 'UTF-8')\n",
    "            writer.save()\n",
    "        if sheet in diff:            \n",
    "            reader = pd.read_excel(path)\n",
    "            frame.to_excel(writer, sheet_name=f'{sheet}', index=False, encoding = 'UTF-8')\n",
    "            writer.save()"
   ]
  }
 ],
 "metadata": {
  "kernelspec": {
   "display_name": "Python 3",
   "language": "python",
   "name": "python3"
  },
  "language_info": {
   "codemirror_mode": {
    "name": "ipython",
    "version": 3
   },
   "file_extension": ".py",
   "mimetype": "text/x-python",
   "name": "python",
   "nbconvert_exporter": "python",
   "pygments_lexer": "ipython3",
   "version": "3.8.8"
  }
 },
 "nbformat": 4,
 "nbformat_minor": 5
}
